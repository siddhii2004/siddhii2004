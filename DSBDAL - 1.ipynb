{
 "cells": [
  {
   "cell_type": "markdown",
   "id": "6fcc340d-71e3-4923-bcd7-e17b32ff6aa5",
   "metadata": {},
   "source": [
    "<font color='orange'>**DSBDAL Ass. 1 -  Data Wrangling, I**</font><br/>\n",
    "##### Perform the following operations using Python on any open source dataset (e.g., data.csv)"
   ]
  },
  {
   "cell_type": "markdown",
   "id": "c4a484bf-eb45-4e5a-ba72-283153b51ee9",
   "metadata": {},
   "source": [
    "##### **1. Import all the required Python Libraries.**"
   ]
  },
  {
   "cell_type": "code",
   "execution_count": 2,
   "id": "18534519-bf51-41a8-8c51-02b2357711ee",
   "metadata": {},
   "outputs": [],
   "source": [
    "import pandas as pd\n",
    "import matplotlib.pyplot as plt\n",
    "import numpy as np"
   ]
  },
  {
   "cell_type": "markdown",
   "id": "be09c940-a63b-4ffa-9d02-80b14b1133f2",
   "metadata": {},
   "source": [
    "##### **2. Locate an open source data from the web (e.g., https://www.kaggle.com). Provide a clear description of the data and its source (i.e., URL of the web site).**"
   ]
  },
  {
   "cell_type": "markdown",
   "id": "82a145fa-67da-4456-ad2c-378fb130803e",
   "metadata": {},
   "source": [
    "<font color='blue'>https://www.kaggle.com/datasets/khadeejahalghadeer/renewable-energy-generation-world-1965-to-2018</font><br/>\n",
    "<font color='red'>Renewable energy sources like hydropower, solar, wind, geothermal and modern biofuel production for all the countries from the year 1965 to 2018.</font>"
   ]
  },
  {
   "cell_type": "markdown",
   "id": "872a0c9d-df96-4275-b1e5-52301419532d",
   "metadata": {},
   "source": [
    "##### **3. Load the Dataset into pandas dataframe.**"
   ]
  },
  {
   "cell_type": "code",
   "execution_count": 4,
   "id": "5b815c05-6405-49be-a91a-c500f896f56f",
   "metadata": {},
   "outputs": [
    {
     "data": {
      "text/html": [
       "<div>\n",
       "<style scoped>\n",
       "    .dataframe tbody tr th:only-of-type {\n",
       "        vertical-align: middle;\n",
       "    }\n",
       "\n",
       "    .dataframe tbody tr th {\n",
       "        vertical-align: top;\n",
       "    }\n",
       "\n",
       "    .dataframe thead th {\n",
       "        text-align: right;\n",
       "    }\n",
       "</style>\n",
       "<table border=\"1\" class=\"dataframe\">\n",
       "  <thead>\n",
       "    <tr style=\"text-align: right;\">\n",
       "      <th></th>\n",
       "      <th>Entity</th>\n",
       "      <th>Code</th>\n",
       "      <th>Year</th>\n",
       "      <th>Hydropower (terawatt-hours)</th>\n",
       "      <th>Solar (terawatt-hours)</th>\n",
       "      <th>Wind (terawatt-hours)</th>\n",
       "      <th>Other renewables (terawatt-hours)</th>\n",
       "    </tr>\n",
       "  </thead>\n",
       "  <tbody>\n",
       "    <tr>\n",
       "      <th>0</th>\n",
       "      <td>Africa</td>\n",
       "      <td>NaN</td>\n",
       "      <td>1965</td>\n",
       "      <td>14.278806</td>\n",
       "      <td>0.0</td>\n",
       "      <td>0.0</td>\n",
       "      <td>0.0</td>\n",
       "    </tr>\n",
       "    <tr>\n",
       "      <th>1</th>\n",
       "      <td>Africa</td>\n",
       "      <td>NaN</td>\n",
       "      <td>1966</td>\n",
       "      <td>15.649049</td>\n",
       "      <td>0.0</td>\n",
       "      <td>0.0</td>\n",
       "      <td>0.0</td>\n",
       "    </tr>\n",
       "    <tr>\n",
       "      <th>2</th>\n",
       "      <td>Africa</td>\n",
       "      <td>NaN</td>\n",
       "      <td>1967</td>\n",
       "      <td>16.158333</td>\n",
       "      <td>0.0</td>\n",
       "      <td>0.0</td>\n",
       "      <td>0.0</td>\n",
       "    </tr>\n",
       "    <tr>\n",
       "      <th>3</th>\n",
       "      <td>Africa</td>\n",
       "      <td>NaN</td>\n",
       "      <td>1968</td>\n",
       "      <td>18.622983</td>\n",
       "      <td>0.0</td>\n",
       "      <td>0.0</td>\n",
       "      <td>0.0</td>\n",
       "    </tr>\n",
       "    <tr>\n",
       "      <th>4</th>\n",
       "      <td>Africa</td>\n",
       "      <td>NaN</td>\n",
       "      <td>1969</td>\n",
       "      <td>21.582897</td>\n",
       "      <td>0.0</td>\n",
       "      <td>0.0</td>\n",
       "      <td>0.0</td>\n",
       "    </tr>\n",
       "  </tbody>\n",
       "</table>\n",
       "</div>"
      ],
      "text/plain": [
       "   Entity Code  Year  Hydropower (terawatt-hours)  Solar (terawatt-hours)  \\\n",
       "0  Africa  NaN  1965                    14.278806                     0.0   \n",
       "1  Africa  NaN  1966                    15.649049                     0.0   \n",
       "2  Africa  NaN  1967                    16.158333                     0.0   \n",
       "3  Africa  NaN  1968                    18.622983                     0.0   \n",
       "4  Africa  NaN  1969                    21.582897                     0.0   \n",
       "\n",
       "   Wind (terawatt-hours)  Other renewables (terawatt-hours)  \n",
       "0                    0.0                                0.0  \n",
       "1                    0.0                                0.0  \n",
       "2                    0.0                                0.0  \n",
       "3                    0.0                                0.0  \n",
       "4                    0.0                                0.0  "
      ]
     },
     "execution_count": 4,
     "metadata": {},
     "output_type": "execute_result"
    }
   ],
   "source": [
    "df = pd.read_csv('1_energy.csv')\n",
    "df.head()"
   ]
  },
  {
   "cell_type": "markdown",
   "id": "278f6b43-e555-485c-bac9-24b34e2215f7",
   "metadata": {},
   "source": [
    "##### **4. Data Preprocessing: check for missing values in the data using pandas isnull(), describe() function to get some initial statistics. Provide variable descriptions. Types of variables etc. Check the dimensions of the data frame.**"
   ]
  },
  {
   "cell_type": "code",
   "execution_count": 5,
   "id": "edc750ce-f89a-4174-8f4a-4967c2729b3e",
   "metadata": {},
   "outputs": [
    {
     "data": {
      "text/plain": [
       "(5091, 7)"
      ]
     },
     "execution_count": 5,
     "metadata": {},
     "output_type": "execute_result"
    }
   ],
   "source": [
    "df.shape"
   ]
  },
  {
   "cell_type": "code",
   "execution_count": 6,
   "id": "7998f53f-e3a4-471f-9c89-804a3ebda84a",
   "metadata": {},
   "outputs": [
    {
     "data": {
      "text/plain": [
       "Entity                                  0\n",
       "Code                                 1006\n",
       "Year                                    0\n",
       "Hydropower (terawatt-hours)             0\n",
       "Solar (terawatt-hours)                  0\n",
       "Wind (terawatt-hours)                   0\n",
       "Other renewables (terawatt-hours)      54\n",
       "dtype: int64"
      ]
     },
     "execution_count": 6,
     "metadata": {},
     "output_type": "execute_result"
    }
   ],
   "source": [
    "df.isna().sum()"
   ]
  },
  {
   "cell_type": "code",
   "execution_count": 7,
   "id": "f014d885-9ca5-46ba-894e-9eb2e4ff9e1c",
   "metadata": {},
   "outputs": [
    {
     "data": {
      "text/plain": [
       "Entity                                object\n",
       "Code                                  object\n",
       "Year                                   int64\n",
       "Hydropower (terawatt-hours)          float64\n",
       "Solar (terawatt-hours)               float64\n",
       "Wind (terawatt-hours)                float64\n",
       "Other renewables (terawatt-hours)    float64\n",
       "dtype: object"
      ]
     },
     "execution_count": 7,
     "metadata": {},
     "output_type": "execute_result"
    }
   ],
   "source": [
    "df.dtypes"
   ]
  },
  {
   "cell_type": "code",
   "execution_count": 9,
   "id": "f8f10d10-2b09-4fdc-8a44-e62092c85a23",
   "metadata": {},
   "outputs": [
    {
     "data": {
      "text/html": [
       "<div>\n",
       "<style scoped>\n",
       "    .dataframe tbody tr th:only-of-type {\n",
       "        vertical-align: middle;\n",
       "    }\n",
       "\n",
       "    .dataframe tbody tr th {\n",
       "        vertical-align: top;\n",
       "    }\n",
       "\n",
       "    .dataframe thead th {\n",
       "        text-align: right;\n",
       "    }\n",
       "</style>\n",
       "<table border=\"1\" class=\"dataframe\">\n",
       "  <thead>\n",
       "    <tr style=\"text-align: right;\">\n",
       "      <th></th>\n",
       "      <th>Year</th>\n",
       "      <th>Hydropower (terawatt-hours)</th>\n",
       "      <th>Solar (terawatt-hours)</th>\n",
       "      <th>Wind (terawatt-hours)</th>\n",
       "      <th>Other renewables (terawatt-hours)</th>\n",
       "    </tr>\n",
       "  </thead>\n",
       "  <tbody>\n",
       "    <tr>\n",
       "      <th>count</th>\n",
       "      <td>5091.000000</td>\n",
       "      <td>5091.000000</td>\n",
       "      <td>5091.000000</td>\n",
       "      <td>5091.000000</td>\n",
       "      <td>5037.000000</td>\n",
       "    </tr>\n",
       "    <tr>\n",
       "      <th>mean</th>\n",
       "      <td>1992.314673</td>\n",
       "      <td>74.058678</td>\n",
       "      <td>1.314816</td>\n",
       "      <td>4.782247</td>\n",
       "      <td>5.747665</td>\n",
       "    </tr>\n",
       "    <tr>\n",
       "      <th>std</th>\n",
       "      <td>15.466422</td>\n",
       "      <td>284.594223</td>\n",
       "      <td>15.293356</td>\n",
       "      <td>41.740873</td>\n",
       "      <td>29.168963</td>\n",
       "    </tr>\n",
       "    <tr>\n",
       "      <th>min</th>\n",
       "      <td>1965.000000</td>\n",
       "      <td>0.000000</td>\n",
       "      <td>0.000000</td>\n",
       "      <td>0.000000</td>\n",
       "      <td>0.000000</td>\n",
       "    </tr>\n",
       "    <tr>\n",
       "      <th>25%</th>\n",
       "      <td>1979.000000</td>\n",
       "      <td>0.808245</td>\n",
       "      <td>0.000000</td>\n",
       "      <td>0.000000</td>\n",
       "      <td>0.000000</td>\n",
       "    </tr>\n",
       "    <tr>\n",
       "      <th>50%</th>\n",
       "      <td>1993.000000</td>\n",
       "      <td>6.023642</td>\n",
       "      <td>0.000000</td>\n",
       "      <td>0.000000</td>\n",
       "      <td>0.042000</td>\n",
       "    </tr>\n",
       "    <tr>\n",
       "      <th>75%</th>\n",
       "      <td>2006.000000</td>\n",
       "      <td>29.935432</td>\n",
       "      <td>0.002046</td>\n",
       "      <td>0.030149</td>\n",
       "      <td>1.316000</td>\n",
       "    </tr>\n",
       "    <tr>\n",
       "      <th>max</th>\n",
       "      <td>2018.000000</td>\n",
       "      <td>4193.104151</td>\n",
       "      <td>584.630918</td>\n",
       "      <td>1269.953375</td>\n",
       "      <td>625.805362</td>\n",
       "    </tr>\n",
       "  </tbody>\n",
       "</table>\n",
       "</div>"
      ],
      "text/plain": [
       "              Year  Hydropower (terawatt-hours)  Solar (terawatt-hours)  \\\n",
       "count  5091.000000                  5091.000000             5091.000000   \n",
       "mean   1992.314673                    74.058678                1.314816   \n",
       "std      15.466422                   284.594223               15.293356   \n",
       "min    1965.000000                     0.000000                0.000000   \n",
       "25%    1979.000000                     0.808245                0.000000   \n",
       "50%    1993.000000                     6.023642                0.000000   \n",
       "75%    2006.000000                    29.935432                0.002046   \n",
       "max    2018.000000                  4193.104151              584.630918   \n",
       "\n",
       "       Wind (terawatt-hours)  Other renewables (terawatt-hours)  \n",
       "count            5091.000000                        5037.000000  \n",
       "mean                4.782247                           5.747665  \n",
       "std                41.740873                          29.168963  \n",
       "min                 0.000000                           0.000000  \n",
       "25%                 0.000000                           0.000000  \n",
       "50%                 0.000000                           0.042000  \n",
       "75%                 0.030149                           1.316000  \n",
       "max              1269.953375                         625.805362  "
      ]
     },
     "execution_count": 9,
     "metadata": {},
     "output_type": "execute_result"
    }
   ],
   "source": [
    "df.describe() # These are numeric variables - int/float(64) type"
   ]
  },
  {
   "cell_type": "code",
   "execution_count": 11,
   "id": "d3b3090b-5509-40f2-923c-071ccbf07912",
   "metadata": {},
   "outputs": [
    {
     "data": {
      "text/plain": [
       "array(['Africa', 'Algeria', 'Argentina', 'Asia Pacific', 'Australia',\n",
       "       'Austria', 'Azerbaijan', 'Bangladesh', 'Belarus', 'Belgium',\n",
       "       'Brazil', 'Bulgaria', 'CIS', 'Canada', 'Central America', 'Chile',\n",
       "       'China', 'Colombia', 'Croatia', 'Cyprus', 'Czech Republic',\n",
       "       'Denmark', 'Eastern Africa', 'Ecuador', 'Egypt', 'Estonia',\n",
       "       'Europe', 'Europe (other)', 'Finland', 'France', 'Germany',\n",
       "       'Greece', 'Hong Kong', 'Hungary', 'Iceland', 'India', 'Indonesia',\n",
       "       'Iran', 'Iraq', 'Ireland', 'Israel', 'Italy', 'Japan',\n",
       "       'Kazakhstan', 'Kuwait', 'Latvia', 'Lithuania', 'Luxembourg',\n",
       "       'Macedonia', 'Malaysia', 'Mexico', 'Middle Africa', 'Middle East',\n",
       "       'Morocco', 'Netherlands', 'New Zealand', 'North America', 'Norway',\n",
       "       'Oman', 'Other Asia & Pacific', 'Other CIS', 'Other Caribbean',\n",
       "       'Other Middle East', 'Other Northern Africa',\n",
       "       'Other South America', 'Other Southern Africa', 'Pakistan', 'Peru',\n",
       "       'Philippines', 'Poland', 'Portugal', 'Qatar', 'Romania', 'Russia',\n",
       "       'Saudi Arabia', 'Singapore', 'Slovakia', 'Slovenia',\n",
       "       'South & Central America', 'South Africa', 'South Korea', 'Spain',\n",
       "       'Sri Lanka', 'Sweden', 'Switzerland', 'Taiwan', 'Thailand',\n",
       "       'Trinidad and Tobago', 'Turkey', 'Turkmenistan', 'USSR', 'Ukraine',\n",
       "       'United Arab Emirates', 'United Kingdom', 'United States',\n",
       "       'Uzbekistan', 'Venezuela', 'Vietnam', 'Western Africa', 'World'],\n",
       "      dtype=object)"
      ]
     },
     "execution_count": 11,
     "metadata": {},
     "output_type": "execute_result"
    }
   ],
   "source": [
    "df['Entity'].unique()\n",
    "# Categorical Variable - Represents Countries"
   ]
  },
  {
   "cell_type": "code",
   "execution_count": 21,
   "id": "b5ff0eea-aa97-403b-8a4a-f4f43d09551b",
   "metadata": {},
   "outputs": [
    {
     "data": {
      "text/plain": [
       "array([nan, 'DZA', 'ARG', 'AUS', 'AUT', 'AZE', 'BGD', 'BLR', 'BEL', 'BRA',\n",
       "       'BGR', 'CAN', 'CHL', 'CHN', 'COL', 'HRV', 'CYP', 'CZE', 'DNK',\n",
       "       'ECU', 'EGY', 'EST', 'FIN', 'FRA', 'DEU', 'GRC', 'HKG', 'HUN',\n",
       "       'ISL', 'IND', 'IDN', 'IRN', 'IRQ', 'IRL', 'ISR', 'ITA', 'JPN',\n",
       "       'KAZ', 'KWT', 'LVA', 'LTU', 'LUX', 'MKD', 'MYS', 'MEX', 'MAR',\n",
       "       'NLD', 'NZL', 'NOR', 'OMN', 'PAK', 'PER', 'PHL', 'POL', 'PRT',\n",
       "       'QAT', 'ROU', 'RUS', 'SAU', 'SGP', 'SVK', 'SVN', 'ZAF', 'KOR',\n",
       "       'ESP', 'LKA', 'SWE', 'CHE', 'TWN', 'THA', 'TTO', 'TUR', 'TKM',\n",
       "       'OWID_USS', 'UKR', 'ARE', 'GBR', 'USA', 'UZB', 'VEN', 'VNM',\n",
       "       'OWID_WRL'], dtype=object)"
      ]
     },
     "execution_count": 21,
     "metadata": {},
     "output_type": "execute_result"
    }
   ],
   "source": [
    "df['Code'].unique()\n",
    "# Categorical Variable - Represents Country Codes"
   ]
  },
  {
   "cell_type": "code",
   "execution_count": 63,
   "id": "c1a0ee23-dbab-4175-83e0-4c28eadb1dd1",
   "metadata": {},
   "outputs": [
    {
     "data": {
      "text/plain": [
       "array(['South Africa', 'China', 'Kazakhstan', 'Mexico', 'Ethiopia',\n",
       "       'Germany', 'Turkey', 'Democratic Republic of Congo', 'Iran',\n",
       "       'United States', 'Philippines', 'Dominican Republic', 'Jordan',\n",
       "       'Algeria', 'Brazil', 'Nigeria'], dtype=object)"
      ]
     },
     "execution_count": 63,
     "metadata": {},
     "output_type": "execute_result"
    }
   ],
   "source": [
    "import math\n",
    "df2 = pd.DataFrame(df.loc[df['Code'].isna()]).reset_index()\n",
    "df2['Entity'].unique()"
   ]
  },
  {
   "cell_type": "markdown",
   "id": "441c8f1c-47e7-477b-b67d-1ac721bf94bb",
   "metadata": {},
   "source": [
    "##### Null values need to be handled, hence I used country-converter package - https://pypi.org/project/country-converter.\n",
    "##### Also, I used ChatGPT to list the most imp country (wrt renewable energy sector), under the above territories, to deal with the Missing Country Codes."
   ]
  },
  {
   "cell_type": "markdown",
   "id": "0cbc35c0-53b3-4edf-ac2d-26ebff46b207",
   "metadata": {},
   "source": [
    "##### Here's what it gave me:"
   ]
  },
  {
   "cell_type": "code",
   "execution_count": 80,
   "id": "03d9e01c-63bb-46f6-9e1f-1cca513cef09",
   "metadata": {},
   "outputs": [],
   "source": [
    "gpt_dict = {'Africa': 'South Africa', 'Asia Pacific': 'China', 'CIS': 'Kazakhstan',\n",
    " 'Central America': 'Mexico', 'Eastern Africa': 'Ethiopia', 'Europe': 'Germany', 'Europe (other)': 'Turkey', \n",
    " 'Middle Africa': 'Democratic Republic of Congo', 'Middle East': 'Iran', 'North America': 'United States', \n",
    " 'Other Asia & Pacific': 'Philippines', 'Other CIS': 'Kazakhstan', 'Other Caribbean': 'Dominican Republic', \n",
    " 'Other Middle East': 'Jordan', 'Other Northern Africa': 'Algeria', 'Other South America': 'Brazil', \n",
    " 'Other Southern Africa': 'South Africa', 'South & Central America': 'Brazil', 'Western Africa': 'Nigeria', 'USSR':'Russia', 'World':'China'}"
   ]
  },
  {
   "cell_type": "code",
   "execution_count": 81,
   "id": "f9dc6550-bdcb-4a09-851e-7f8ed68b439d",
   "metadata": {},
   "outputs": [],
   "source": [
    "df['Entity'].replace(gpt_dict, inplace=True)"
   ]
  },
  {
   "cell_type": "markdown",
   "id": "4cd04015-2ca9-4937-89a0-057cad07f801",
   "metadata": {},
   "source": [
    "##### Extracting Country Codes for the countries and filling in the Code column"
   ]
  },
  {
   "cell_type": "code",
   "execution_count": 82,
   "id": "6f122829-c534-4d5a-bcf4-b7a1b2b75843",
   "metadata": {},
   "outputs": [],
   "source": [
    "import country_converter as coco\n",
    "cc = coco.CountryConverter()\n",
    "ser = pd.Series(df['Entity'])\n",
    "codes = cc.pandas_convert(series=ser, to='ISO3')  \n",
    "df['Code'] = codes"
   ]
  },
  {
   "cell_type": "code",
   "execution_count": 83,
   "id": "722be93d-babb-409a-8a07-e19215e12295",
   "metadata": {},
   "outputs": [],
   "source": [
    "df['Other renewables (terawatt-hours)'].fillna(df['Other renewables (terawatt-hours)'].mean(), inplace=True);"
   ]
  },
  {
   "cell_type": "code",
   "execution_count": 84,
   "id": "81d93e13-cbdc-4480-b42c-0a64feaf5c1b",
   "metadata": {},
   "outputs": [
    {
     "data": {
      "text/plain": [
       "Entity                               0\n",
       "Code                                 0\n",
       "Year                                 0\n",
       "Hydropower (terawatt-hours)          0\n",
       "Solar (terawatt-hours)               0\n",
       "Wind (terawatt-hours)                0\n",
       "Other renewables (terawatt-hours)    0\n",
       "dtype: int64"
      ]
     },
     "execution_count": 84,
     "metadata": {},
     "output_type": "execute_result"
    }
   ],
   "source": [
    "df.isna().sum()"
   ]
  },
  {
   "cell_type": "markdown",
   "id": "71af52db-a1b8-404c-845f-657703938a25",
   "metadata": {},
   "source": [
    "##### **5. Data Formatting and Data Normalization: Summarize the types of variables by checking the data types (i.e., character, numeric, integer, factor, and logical) of the variables in the data set. If variables are not in the correct data type, apply proper type conversions.**"
   ]
  },
  {
   "cell_type": "code",
   "execution_count": 77,
   "id": "aded21b2-94dd-40ba-8b3c-823bb49327f9",
   "metadata": {},
   "outputs": [
    {
     "data": {
      "text/plain": [
       "Entity                                object\n",
       "Code                                  object\n",
       "Year                                   int64\n",
       "Hydropower (terawatt-hours)          float64\n",
       "Solar (terawatt-hours)               float64\n",
       "Wind (terawatt-hours)                float64\n",
       "Other renewables (terawatt-hours)    float64\n",
       "dtype: object"
      ]
     },
     "execution_count": 77,
     "metadata": {},
     "output_type": "execute_result"
    }
   ],
   "source": [
    "df.dtypes"
   ]
  },
  {
   "cell_type": "markdown",
   "id": "40850208-5acd-45af-8563-7262359d050d",
   "metadata": {},
   "source": [
    "##### **6. Turn categorical variables into quantitative variables in Python. In addition to the codes and outputs, explain every operation that you do in the above steps and explain everything that you do to import/read/scrape the data set.**"
   ]
  },
  {
   "cell_type": "code",
   "execution_count": 85,
   "id": "964e994b-eab1-4bc4-b8bc-d673992a1ea7",
   "metadata": {},
   "outputs": [
    {
     "data": {
      "text/html": [
       "<div>\n",
       "<style scoped>\n",
       "    .dataframe tbody tr th:only-of-type {\n",
       "        vertical-align: middle;\n",
       "    }\n",
       "\n",
       "    .dataframe tbody tr th {\n",
       "        vertical-align: top;\n",
       "    }\n",
       "\n",
       "    .dataframe thead th {\n",
       "        text-align: right;\n",
       "    }\n",
       "</style>\n",
       "<table border=\"1\" class=\"dataframe\">\n",
       "  <thead>\n",
       "    <tr style=\"text-align: right;\">\n",
       "      <th></th>\n",
       "      <th>Entity</th>\n",
       "      <th>Code</th>\n",
       "      <th>Year</th>\n",
       "      <th>Hydropower (terawatt-hours)</th>\n",
       "      <th>Solar (terawatt-hours)</th>\n",
       "      <th>Wind (terawatt-hours)</th>\n",
       "      <th>Other renewables (terawatt-hours)</th>\n",
       "      <th>ARE</th>\n",
       "      <th>ARG</th>\n",
       "      <th>AUS</th>\n",
       "      <th>...</th>\n",
       "      <th>TKM</th>\n",
       "      <th>TTO</th>\n",
       "      <th>TUR</th>\n",
       "      <th>TWN</th>\n",
       "      <th>UKR</th>\n",
       "      <th>USA</th>\n",
       "      <th>UZB</th>\n",
       "      <th>VEN</th>\n",
       "      <th>VNM</th>\n",
       "      <th>ZAF</th>\n",
       "    </tr>\n",
       "  </thead>\n",
       "  <tbody>\n",
       "    <tr>\n",
       "      <th>0</th>\n",
       "      <td>South Africa</td>\n",
       "      <td>ZAF</td>\n",
       "      <td>1965</td>\n",
       "      <td>14.278806</td>\n",
       "      <td>0.000000</td>\n",
       "      <td>0.000000</td>\n",
       "      <td>0.000000</td>\n",
       "      <td>0</td>\n",
       "      <td>0</td>\n",
       "      <td>0</td>\n",
       "      <td>...</td>\n",
       "      <td>0</td>\n",
       "      <td>0</td>\n",
       "      <td>0</td>\n",
       "      <td>0</td>\n",
       "      <td>0</td>\n",
       "      <td>0</td>\n",
       "      <td>0</td>\n",
       "      <td>0</td>\n",
       "      <td>0</td>\n",
       "      <td>1</td>\n",
       "    </tr>\n",
       "    <tr>\n",
       "      <th>1</th>\n",
       "      <td>South Africa</td>\n",
       "      <td>ZAF</td>\n",
       "      <td>1966</td>\n",
       "      <td>15.649049</td>\n",
       "      <td>0.000000</td>\n",
       "      <td>0.000000</td>\n",
       "      <td>0.000000</td>\n",
       "      <td>0</td>\n",
       "      <td>0</td>\n",
       "      <td>0</td>\n",
       "      <td>...</td>\n",
       "      <td>0</td>\n",
       "      <td>0</td>\n",
       "      <td>0</td>\n",
       "      <td>0</td>\n",
       "      <td>0</td>\n",
       "      <td>0</td>\n",
       "      <td>0</td>\n",
       "      <td>0</td>\n",
       "      <td>0</td>\n",
       "      <td>1</td>\n",
       "    </tr>\n",
       "    <tr>\n",
       "      <th>2</th>\n",
       "      <td>South Africa</td>\n",
       "      <td>ZAF</td>\n",
       "      <td>1967</td>\n",
       "      <td>16.158333</td>\n",
       "      <td>0.000000</td>\n",
       "      <td>0.000000</td>\n",
       "      <td>0.000000</td>\n",
       "      <td>0</td>\n",
       "      <td>0</td>\n",
       "      <td>0</td>\n",
       "      <td>...</td>\n",
       "      <td>0</td>\n",
       "      <td>0</td>\n",
       "      <td>0</td>\n",
       "      <td>0</td>\n",
       "      <td>0</td>\n",
       "      <td>0</td>\n",
       "      <td>0</td>\n",
       "      <td>0</td>\n",
       "      <td>0</td>\n",
       "      <td>1</td>\n",
       "    </tr>\n",
       "    <tr>\n",
       "      <th>3</th>\n",
       "      <td>South Africa</td>\n",
       "      <td>ZAF</td>\n",
       "      <td>1968</td>\n",
       "      <td>18.622983</td>\n",
       "      <td>0.000000</td>\n",
       "      <td>0.000000</td>\n",
       "      <td>0.000000</td>\n",
       "      <td>0</td>\n",
       "      <td>0</td>\n",
       "      <td>0</td>\n",
       "      <td>...</td>\n",
       "      <td>0</td>\n",
       "      <td>0</td>\n",
       "      <td>0</td>\n",
       "      <td>0</td>\n",
       "      <td>0</td>\n",
       "      <td>0</td>\n",
       "      <td>0</td>\n",
       "      <td>0</td>\n",
       "      <td>0</td>\n",
       "      <td>1</td>\n",
       "    </tr>\n",
       "    <tr>\n",
       "      <th>4</th>\n",
       "      <td>South Africa</td>\n",
       "      <td>ZAF</td>\n",
       "      <td>1969</td>\n",
       "      <td>21.582897</td>\n",
       "      <td>0.000000</td>\n",
       "      <td>0.000000</td>\n",
       "      <td>0.000000</td>\n",
       "      <td>0</td>\n",
       "      <td>0</td>\n",
       "      <td>0</td>\n",
       "      <td>...</td>\n",
       "      <td>0</td>\n",
       "      <td>0</td>\n",
       "      <td>0</td>\n",
       "      <td>0</td>\n",
       "      <td>0</td>\n",
       "      <td>0</td>\n",
       "      <td>0</td>\n",
       "      <td>0</td>\n",
       "      <td>0</td>\n",
       "      <td>1</td>\n",
       "    </tr>\n",
       "    <tr>\n",
       "      <th>...</th>\n",
       "      <td>...</td>\n",
       "      <td>...</td>\n",
       "      <td>...</td>\n",
       "      <td>...</td>\n",
       "      <td>...</td>\n",
       "      <td>...</td>\n",
       "      <td>...</td>\n",
       "      <td>...</td>\n",
       "      <td>...</td>\n",
       "      <td>...</td>\n",
       "      <td>...</td>\n",
       "      <td>...</td>\n",
       "      <td>...</td>\n",
       "      <td>...</td>\n",
       "      <td>...</td>\n",
       "      <td>...</td>\n",
       "      <td>...</td>\n",
       "      <td>...</td>\n",
       "      <td>...</td>\n",
       "      <td>...</td>\n",
       "      <td>...</td>\n",
       "    </tr>\n",
       "    <tr>\n",
       "      <th>5086</th>\n",
       "      <td>China</td>\n",
       "      <td>CHN</td>\n",
       "      <td>2014</td>\n",
       "      <td>3883.143443</td>\n",
       "      <td>197.910508</td>\n",
       "      <td>712.031697</td>\n",
       "      <td>502.158919</td>\n",
       "      <td>0</td>\n",
       "      <td>0</td>\n",
       "      <td>0</td>\n",
       "      <td>...</td>\n",
       "      <td>0</td>\n",
       "      <td>0</td>\n",
       "      <td>0</td>\n",
       "      <td>0</td>\n",
       "      <td>0</td>\n",
       "      <td>0</td>\n",
       "      <td>0</td>\n",
       "      <td>0</td>\n",
       "      <td>0</td>\n",
       "      <td>0</td>\n",
       "    </tr>\n",
       "    <tr>\n",
       "      <th>5087</th>\n",
       "      <td>China</td>\n",
       "      <td>CHN</td>\n",
       "      <td>2015</td>\n",
       "      <td>3884.417357</td>\n",
       "      <td>260.739219</td>\n",
       "      <td>831.384507</td>\n",
       "      <td>536.466244</td>\n",
       "      <td>0</td>\n",
       "      <td>0</td>\n",
       "      <td>0</td>\n",
       "      <td>...</td>\n",
       "      <td>0</td>\n",
       "      <td>0</td>\n",
       "      <td>0</td>\n",
       "      <td>0</td>\n",
       "      <td>0</td>\n",
       "      <td>0</td>\n",
       "      <td>0</td>\n",
       "      <td>0</td>\n",
       "      <td>0</td>\n",
       "      <td>0</td>\n",
       "    </tr>\n",
       "    <tr>\n",
       "      <th>5088</th>\n",
       "      <td>China</td>\n",
       "      <td>CHN</td>\n",
       "      <td>2016</td>\n",
       "      <td>4017.743773</td>\n",
       "      <td>328.378114</td>\n",
       "      <td>956.873542</td>\n",
       "      <td>556.623356</td>\n",
       "      <td>0</td>\n",
       "      <td>0</td>\n",
       "      <td>0</td>\n",
       "      <td>...</td>\n",
       "      <td>0</td>\n",
       "      <td>0</td>\n",
       "      <td>0</td>\n",
       "      <td>0</td>\n",
       "      <td>0</td>\n",
       "      <td>0</td>\n",
       "      <td>0</td>\n",
       "      <td>0</td>\n",
       "      <td>0</td>\n",
       "      <td>0</td>\n",
       "    </tr>\n",
       "    <tr>\n",
       "      <th>5089</th>\n",
       "      <td>China</td>\n",
       "      <td>CHN</td>\n",
       "      <td>2017</td>\n",
       "      <td>4065.443127</td>\n",
       "      <td>453.517657</td>\n",
       "      <td>1127.989587</td>\n",
       "      <td>584.975827</td>\n",
       "      <td>0</td>\n",
       "      <td>0</td>\n",
       "      <td>0</td>\n",
       "      <td>...</td>\n",
       "      <td>0</td>\n",
       "      <td>0</td>\n",
       "      <td>0</td>\n",
       "      <td>0</td>\n",
       "      <td>0</td>\n",
       "      <td>0</td>\n",
       "      <td>0</td>\n",
       "      <td>0</td>\n",
       "      <td>0</td>\n",
       "      <td>0</td>\n",
       "    </tr>\n",
       "    <tr>\n",
       "      <th>5090</th>\n",
       "      <td>China</td>\n",
       "      <td>CHN</td>\n",
       "      <td>2018</td>\n",
       "      <td>4193.104151</td>\n",
       "      <td>584.630918</td>\n",
       "      <td>1269.953375</td>\n",
       "      <td>625.805362</td>\n",
       "      <td>0</td>\n",
       "      <td>0</td>\n",
       "      <td>0</td>\n",
       "      <td>...</td>\n",
       "      <td>0</td>\n",
       "      <td>0</td>\n",
       "      <td>0</td>\n",
       "      <td>0</td>\n",
       "      <td>0</td>\n",
       "      <td>0</td>\n",
       "      <td>0</td>\n",
       "      <td>0</td>\n",
       "      <td>0</td>\n",
       "      <td>0</td>\n",
       "    </tr>\n",
       "  </tbody>\n",
       "</table>\n",
       "<p>5091 rows × 91 columns</p>\n",
       "</div>"
      ],
      "text/plain": [
       "            Entity Code  Year  Hydropower (terawatt-hours)  \\\n",
       "0     South Africa  ZAF  1965                    14.278806   \n",
       "1     South Africa  ZAF  1966                    15.649049   \n",
       "2     South Africa  ZAF  1967                    16.158333   \n",
       "3     South Africa  ZAF  1968                    18.622983   \n",
       "4     South Africa  ZAF  1969                    21.582897   \n",
       "...            ...  ...   ...                          ...   \n",
       "5086         China  CHN  2014                  3883.143443   \n",
       "5087         China  CHN  2015                  3884.417357   \n",
       "5088         China  CHN  2016                  4017.743773   \n",
       "5089         China  CHN  2017                  4065.443127   \n",
       "5090         China  CHN  2018                  4193.104151   \n",
       "\n",
       "      Solar (terawatt-hours)  Wind (terawatt-hours)  \\\n",
       "0                   0.000000               0.000000   \n",
       "1                   0.000000               0.000000   \n",
       "2                   0.000000               0.000000   \n",
       "3                   0.000000               0.000000   \n",
       "4                   0.000000               0.000000   \n",
       "...                      ...                    ...   \n",
       "5086              197.910508             712.031697   \n",
       "5087              260.739219             831.384507   \n",
       "5088              328.378114             956.873542   \n",
       "5089              453.517657            1127.989587   \n",
       "5090              584.630918            1269.953375   \n",
       "\n",
       "      Other renewables (terawatt-hours)  ARE  ARG  AUS  ...  TKM  TTO  TUR  \\\n",
       "0                              0.000000    0    0    0  ...    0    0    0   \n",
       "1                              0.000000    0    0    0  ...    0    0    0   \n",
       "2                              0.000000    0    0    0  ...    0    0    0   \n",
       "3                              0.000000    0    0    0  ...    0    0    0   \n",
       "4                              0.000000    0    0    0  ...    0    0    0   \n",
       "...                                 ...  ...  ...  ...  ...  ...  ...  ...   \n",
       "5086                         502.158919    0    0    0  ...    0    0    0   \n",
       "5087                         536.466244    0    0    0  ...    0    0    0   \n",
       "5088                         556.623356    0    0    0  ...    0    0    0   \n",
       "5089                         584.975827    0    0    0  ...    0    0    0   \n",
       "5090                         625.805362    0    0    0  ...    0    0    0   \n",
       "\n",
       "      TWN  UKR  USA  UZB  VEN  VNM  ZAF  \n",
       "0       0    0    0    0    0    0    1  \n",
       "1       0    0    0    0    0    0    1  \n",
       "2       0    0    0    0    0    0    1  \n",
       "3       0    0    0    0    0    0    1  \n",
       "4       0    0    0    0    0    0    1  \n",
       "...   ...  ...  ...  ...  ...  ...  ...  \n",
       "5086    0    0    0    0    0    0    0  \n",
       "5087    0    0    0    0    0    0    0  \n",
       "5088    0    0    0    0    0    0    0  \n",
       "5089    0    0    0    0    0    0    0  \n",
       "5090    0    0    0    0    0    0    0  \n",
       "\n",
       "[5091 rows x 91 columns]"
      ]
     },
     "execution_count": 85,
     "metadata": {},
     "output_type": "execute_result"
    }
   ],
   "source": [
    "df_cat_to_quant = pd.get_dummies(df['Code'])\n",
    "df_new = pd.concat([df, df_cat_to_quant], axis=1)\n",
    "df_new"
   ]
  }
 ],
 "metadata": {
  "kernelspec": {
   "display_name": "Python 3 (ipykernel)",
   "language": "python",
   "name": "python3"
  },
  "language_info": {
   "codemirror_mode": {
    "name": "ipython",
    "version": 3
   },
   "file_extension": ".py",
   "mimetype": "text/x-python",
   "name": "python",
   "nbconvert_exporter": "python",
   "pygments_lexer": "ipython3",
   "version": "3.10.6"
  }
 },
 "nbformat": 4,
 "nbformat_minor": 5
}
